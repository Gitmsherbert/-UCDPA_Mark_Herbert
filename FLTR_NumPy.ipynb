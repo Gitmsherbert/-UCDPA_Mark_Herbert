{
 "cells": [
  {
   "cell_type": "code",
   "execution_count": 1,
   "id": "a6fc2b68-996f-467a-a982-9a9c0bf7b320",
   "metadata": {},
   "outputs": [
    {
     "name": "stderr",
     "output_type": "stream",
     "text": [
      "/var/folders/7h/fwd77_b127ggws5jhf8lwj500000gn/T/ipykernel_2649/3328884622.py:10: VisibleDeprecationWarning: Reading unicode strings without specifying the encoding argument is deprecated. Set the encoding, use None for the system default.\n",
      "  data = np.genfromtxt('FLTR.L.csv', delimiter=',', skip_header=1, dtype=None, names=('Date', 'Open', 'High', 'Low', 'Close', 'Adj Close', 'Volume'))\n"
     ]
    }
   ],
   "source": [
    "#numpy already installed but need to import\n",
    "import numpy as np\n",
    "import pandas as pd\n",
    "\n",
    "# Assign filename: file\n",
    "file = 'FLTR.L.csv'\n",
    "\n",
    "# Import file: data first column is header and here I set the data type argument dtype equal to str (for string).\n",
    "# data = np.loadtxt('FLTR.L.csv', delimiter='\\t', dtype=str)\n",
    "data = np.genfromtxt('FLTR.L.csv', delimiter=',', skip_header=1, dtype=None, names=('Date', 'Open', 'High', 'Low', 'Close', 'Adj Close', 'Volume'))\n",
    "\n",
    "# Print the first element of data\n",
    "#print(data['Date'])\n",
    "\n",
    "#print(data)\n",
    "\n",
    "# Access the data using column names\n"
   ]
  },
  {
   "cell_type": "code",
   "execution_count": null,
   "id": "675a649c-a57b-4fa5-84de-b7cd615dcaaa",
   "metadata": {},
   "outputs": [],
   "source": []
  },
  {
   "cell_type": "code",
   "execution_count": 91,
   "id": "bb7ca38e-196b-4414-9a8e-2f7e6a1ca727",
   "metadata": {},
   "outputs": [],
   "source": [
    "#now with encoding='utf-8' \n",
    "data = np.genfromtxt('FLTR.L.csv', delimiter=',', skip_header=1, dtype=None, names=('Date', 'Open', 'High', 'Low', 'Close', 'Adj Close', 'Volume'),\n",
    " encoding='utf-8') "
   ]
  },
  {
   "cell_type": "code",
   "execution_count": 93,
   "id": "91a434b9-9a50-4ba2-b090-c07f139eb8be",
   "metadata": {},
   "outputs": [
    {
     "name": "stdout",
     "output_type": "stream",
     "text": [
      "[('2018-01-02',  8659.90332 ,  8817.266602,  8654.985352,  8753.337891,  8096.356445, 116553)\n",
      " ('2018-01-03',  8694.326172,  8733.666992,  8620.5625  ,  8625.480469,  7978.095215,  73075)\n",
      " ('2018-01-04',  8630.397461,  8654.985352,  8536.962891,  8615.644531,  7968.99707 ,  93162)\n",
      " ...\n",
      " ('2023-02-24', 13800.      , 13875.      , 13035.      , 13065.      , 13065.      , 394355)\n",
      " ('2023-02-27', 13110.      , 13540.      , 13110.      , 13465.      , 13465.      , 809545)\n",
      " ('2023-02-28', 13465.      , 13465.      , 13250.      , 13335.      , 13335.      , 931226)]\n"
     ]
    }
   ],
   "source": [
    "print(data)"
   ]
  },
  {
   "cell_type": "code",
   "execution_count": 94,
   "id": "569665fd-2436-42ec-9f46-0dca0155c3a0",
   "metadata": {},
   "outputs": [
    {
     "name": "stdout",
     "output_type": "stream",
     "text": [
      "['2018-01-02' '2018-01-03' '2018-01-04' ... '2023-02-24' '2023-02-27'\n",
      " '2023-02-28']\n"
     ]
    }
   ],
   "source": [
    "print(data['Date'])"
   ]
  },
  {
   "cell_type": "code",
   "execution_count": 96,
   "id": "dc1c7fc2-ac54-43d6-91da-640536aa08b5",
   "metadata": {},
   "outputs": [
    {
     "name": "stdout",
     "output_type": "stream",
     "text": [
      "(1304,)\n"
     ]
    }
   ],
   "source": [
    "print(data.shape)"
   ]
  },
  {
   "cell_type": "code",
   "execution_count": 97,
   "id": "97724df3-8b95-4e9d-8e7d-197e5934e61d",
   "metadata": {},
   "outputs": [
    {
     "name": "stdout",
     "output_type": "stream",
     "text": [
      "(1304,)\n",
      "['2018-01-02' '2018-01-03' '2018-01-04' ... '2023-02-24' '2023-02-27'\n",
      " '2023-02-28']\n"
     ]
    }
   ],
   "source": [
    "data = np.genfromtxt('FLTR.L.csv', delimiter=',', skip_header=1,\n",
    "                     dtype=[('Date', 'U10'), ('Open', 'f8'), ('High', 'f8'), ('Low', 'f8'),\n",
    "                            ('Close', 'f8'), ('Adj Close', 'f8'), ('Volume', 'i8')])\n",
    "\n",
    "print(data.shape)\n",
    "print(data['Date'])\n"
   ]
  },
  {
   "cell_type": "code",
   "execution_count": 86,
   "id": "a3fefd66-59b6-4ca3-a8dc-8cf6ef0cfd31",
   "metadata": {},
   "outputs": [
    {
     "name": "stdout",
     "output_type": "stream",
     "text": [
      "[('2018-01-02',  8659.90332 ,  8817.266602,  8654.985352,  8753.337891,  8096.356445, 116553)\n",
      " ('2018-01-03',  8694.326172,  8733.666992,  8620.5625  ,  8625.480469,  7978.095215,  73075)\n",
      " ('2018-01-04',  8630.397461,  8654.985352,  8536.962891,  8615.644531,  7968.99707 ,  93162)\n",
      " ...\n",
      " ('2023-02-24', 13800.      , 13875.      , 13035.      , 13065.      , 13065.      , 394355)\n",
      " ('2023-02-27', 13110.      , 13540.      , 13110.      , 13465.      , 13465.      , 809545)\n",
      " ('2023-02-28', 13465.      , 13465.      , 13250.      , 13335.      , 13335.      , 931226)]\n"
     ]
    }
   ],
   "source": [
    "print(data)"
   ]
  },
  {
   "cell_type": "code",
   "execution_count": null,
   "id": "8e55da3d-69a2-4fcc-9a54-eb651e8175c7",
   "metadata": {},
   "outputs": [],
   "source": [
    "data = np.genfromtxt('FLTR.L.csv', delimiter=',', dtype=None, encoding='utf-8', columns = ['Date', 'Open', 'High', 'Low', 'Close', 'Adj Close', 'Volume'])"
   ]
  },
  {
   "cell_type": "code",
   "execution_count": 63,
   "id": "0ea0dfc0-9873-42c8-999d-15c399ac2099",
   "metadata": {},
   "outputs": [
    {
     "name": "stdout",
     "output_type": "stream",
     "text": [
      "[['Date' 'Open' 'High' 'Low' 'Close' 'Adj Close' 'Volume']\n",
      " ['2018-01-02' '8659.903320' '8817.266602' '8654.985352' '8753.337891'\n",
      "  '8096.356445' '116553']\n",
      " ['2018-01-03' '8694.326172' '8733.666992' '8620.562500' '8625.480469'\n",
      "  '7978.095215' '73075']]\n"
     ]
    }
   ],
   "source": [
    "print(data[:3])"
   ]
  },
  {
   "cell_type": "code",
   "execution_count": 67,
   "id": "819220f3-dab5-404a-9653-81422f6a59fd",
   "metadata": {},
   "outputs": [],
   "source": [
    "#This will return a tuple of the field names\n",
    "data.dtype.names"
   ]
  },
  {
   "cell_type": "code",
   "execution_count": null,
   "id": "e19950da-fef7-40e4-9c29-f004e3b4e3a2",
   "metadata": {},
   "outputs": [],
   "source": [
    "print(data['Date'])"
   ]
  },
  {
   "cell_type": "code",
   "execution_count": 64,
   "id": "3345051b-215a-48ef-bb45-fb95b81e3830",
   "metadata": {},
   "outputs": [
    {
     "name": "stdout",
     "output_type": "stream",
     "text": [
      "(1305, 7)\n"
     ]
    }
   ],
   "source": [
    "print(data.shape)"
   ]
  },
  {
   "cell_type": "code",
   "execution_count": null,
   "id": "9eb04175-e6d0-460b-8f8b-99e82e57473e",
   "metadata": {},
   "outputs": [],
   "source": []
  }
 ],
 "metadata": {
  "kernelspec": {
   "display_name": "Python 3 (ipykernel)",
   "language": "python",
   "name": "python3"
  },
  "language_info": {
   "codemirror_mode": {
    "name": "ipython",
    "version": 3
   },
   "file_extension": ".py",
   "mimetype": "text/x-python",
   "name": "python",
   "nbconvert_exporter": "python",
   "pygments_lexer": "ipython3",
   "version": "3.8.8"
  }
 },
 "nbformat": 4,
 "nbformat_minor": 5
}
